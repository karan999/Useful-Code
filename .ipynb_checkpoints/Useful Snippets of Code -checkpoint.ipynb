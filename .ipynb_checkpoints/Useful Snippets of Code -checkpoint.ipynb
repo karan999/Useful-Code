{
 "cells": [
  {
   "cell_type": "markdown",
   "metadata": {},
   "source": [
    "### This Notebook will act as a 'Reference' for useful code "
   ]
  },
  {
   "cell_type": "code",
   "execution_count": 1,
   "metadata": {},
   "outputs": [],
   "source": [
    "import os \n",
    "import sys \n",
    "import pandas as pd \n",
    "import zipfile"
   ]
  },
  {
   "cell_type": "code",
   "execution_count": 2,
   "metadata": {},
   "outputs": [],
   "source": [
    "path = \"C:\\\\Users\\karan\\\\Projects\\\\Personal Development\\\\Useful-Code\""
   ]
  },
  {
   "cell_type": "markdown",
   "metadata": {},
   "source": [
    "- Checking type of variable \n",
    "- Useful to be able to iterate through a list of variables to produce a result instead of calling the function multiple times "
   ]
  },
  {
   "cell_type": "code",
   "execution_count": 3,
   "metadata": {},
   "outputs": [],
   "source": [
    "def passing_in_list_check( var ):\n",
    "       \n",
    "    condition_check = isinstance(var , list)\n",
    "    \n",
    "    if condition_check == True:\n",
    "        \n",
    "        for i in var:\n",
    "            \n",
    "            print (i)\n",
    "            \n",
    "    else:\n",
    "        \n",
    "        print (\"not a list \")"
   ]
  },
  {
   "cell_type": "code",
   "execution_count": 4,
   "metadata": {},
   "outputs": [
    {
     "name": "stdout",
     "output_type": "stream",
     "text": [
      "not a list \n"
     ]
    }
   ],
   "source": [
    "passing_in_list_check( 1 )"
   ]
  },
  {
   "cell_type": "code",
   "execution_count": 5,
   "metadata": {},
   "outputs": [
    {
     "name": "stdout",
     "output_type": "stream",
     "text": [
      "1\n",
      "2\n",
      "3\n"
     ]
    }
   ],
   "source": [
    "passing_in_list_check([ 1, 2 , 3])"
   ]
  },
  {
   "cell_type": "markdown",
   "metadata": {},
   "source": [
    "- Looping through a directory and take the name of the file as a variable \n",
    "- Useful if the name has a timestamp and can be a way to gather stats by datetime (especially if the files are named the same)"
   ]
  },
  {
   "cell_type": "code",
   "execution_count": 13,
   "metadata": {},
   "outputs": [
    {
     "name": "stdout",
     "output_type": "stream",
     "text": [
      "       date    time\n",
      "0  20180101  101010\n"
     ]
    }
   ],
   "source": [
    "for i in os.listdir(path):\n",
    "    \n",
    "    if i.endswith('.zip'):\n",
    "    \n",
    "        _split = i.split('_')\n",
    "        \n",
    "        #print (_split[0])\n",
    "        \n",
    "        date = _split[0][0:8]\n",
    "        \n",
    "        time = _split[0][8:]\n",
    "        \n",
    "        df = pd.DataFrame([[date, time]] , columns = ['date' , 'time'])\n",
    "        \n",
    "        print(df)\n"
   ]
  },
  {
   "cell_type": "code",
   "execution_count": null,
   "metadata": {},
   "outputs": [],
   "source": []
  }
 ],
 "metadata": {
  "kernelspec": {
   "display_name": "Python 3",
   "language": "python",
   "name": "python3"
  },
  "language_info": {
   "codemirror_mode": {
    "name": "ipython",
    "version": 3
   },
   "file_extension": ".py",
   "mimetype": "text/x-python",
   "name": "python",
   "nbconvert_exporter": "python",
   "pygments_lexer": "ipython3",
   "version": "3.6.3"
  }
 },
 "nbformat": 4,
 "nbformat_minor": 2
}
